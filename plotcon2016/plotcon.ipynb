{
  "cells": [
    {
      "cell_type": "markdown",
      "source": [
        "\n",
        "# #PLOTCON\n"
      ],
      "metadata": {
        "nbpresent": {
          "id": "090fd6bb-4234-4cb7-a894-115e1b6911cf"
        }
      }
    },
    {
      "cell_type": "markdown",
      "source": [
        "## Scott Berinato, Editor HBR\n",
        "\n",
        "Text walls are dumb AF, don't make people read statistics.\n",
        "\n",
        "Go read [*Good Charts*](https://www.amazon.com/Good-Charts-Smarter-Persuasive-Visualizations/dp/1633690709) published HBR\n",
        "\n",
        "- Can != Should\n",
        "- Easy != Good\n",
        "\n",
        "What is Good? Ask: is this actually the right kind of chart?\n",
        "\n",
        "Good Chart Questions:\n",
        "![](img/scott1.png)\n",
        "![](img/scott2a.png)\n",
        "![](img/scott2b.png)"
      ],
      "metadata": {
        "nbpresent": {
          "id": "ed98f854-317a-4c1e-b579-ceefd53ddd02"
        }
      }
    },
    {
      "cell_type": "markdown",
      "source": [
        "## Vega-Lite by Dominik Moritz\n",
        "\n",
        "JSON is going to be THE interchange format and...\n",
        "\n",
        "Vega/[Vega-Lite](https://vega.github.io/vega-lite/) is becoming and likely will be Lingua Franca\n",
        "\n",
        "Use [Altair](https://altair-viz.github.io/) (Vega-lite API hooks) for python (sorta like ggplot2)\n",
        "\n",
        "<img src=\"img/vega1.png\",width=600,height=600>\n",
        "<img src=\"img/vega2.png\",width=600,height=600>\n",
        "<img src=\"img/vega3.png\",width=600,height=600>"
      ],
      "metadata": {
        "nbpresent": {
          "id": "2499f941-c326-4449-9d0d-705f756d131e"
        }
      }
    },
    {
      "cell_type": "markdown",
      "source": [
        "## Dealing with Text by Irene Ros\n",
        "\n",
        "THIS [PRESENTATION](https://speakerdeck.com/iros/text-analysis-and-visualization) IS MONEY FOR TEXT ANALYSIS.\n",
        "\n",
        "Check out [NLTK 3.0 (for python)](http://www.nltk.org/) \n",
        "\n",
        "> Don't forget to stem when dealing with text\n",
        "\n",
        "`NLTK.pos_tag()` for part of speech tagging (n, adj, verb, ect)\n",
        "\n",
        "Interesting measures:\n",
        "\n",
        "- Concordance for keyword context\n",
        "- n-grams for correlations (see: Google bi-grams)\n",
        "- Co-occurance for things like X [word] Y\n",
        "- Significance, use something like TF IDF\n",
        "\n",
        "Relevant Slides:\n",
        "\n",
        "<img src=\"img/irene1.png\",width=600,height=600>\n",
        "<img src=\"img/irene2.png\",width=600,height=600>\n",
        "<img src=\"img/irene3.png\",width=600,height=600>\n",
        "<img src=\"img/irene4.png\",width=600,height=600>\n",
        "<img src=\"img/irene5.png\",width=600,height=600>\n",
        "<img src=\"img/irene6.png\",width=600,height=600>\n",
        "<img src=\"img/irene7.png\",width=600,height=600>"
      ],
      "metadata": {
        "nbpresent": {
          "id": "a84bddba-8c02-46a1-aeed-97214f489696"
        }
      }
    },
    {
      "cell_type": "markdown",
      "source": [
        "## Mattew Conlen of fivethirtyeight\n",
        "### What went wrong, and other musings\n",
        "\n",
        "If there's a 30% chance of rain... and it rains... was I wrong?\n",
        "\n",
        "\"Uncertainty narrows\"\n",
        "\n",
        "How do we communicate uncertainty better? Because people still don't get it. \n",
        "\n",
        "Possible answers? \n",
        "\n",
        "- Hypothetical Outcome Plots\n",
        "- Simulations! Patterns are better than equations\n",
        "\n",
        "Think about boutique data sources\n",
        "\n",
        "Check out:\n",
        "\n",
        "- BINDER for live hosting Jupyter Notebooks [mybinder.org](mybinder.org)\n",
        "- Terra Pattern for GEO SEARCH\n",
        "- IDL at U of Wash\n",
        "\n",
        "<img src=\"img/conlen1.png\",width=600,height=600>\n",
        "<img src=\"img/conlen2.png\",width=600,height=600>"
      ],
      "metadata": {
        "nbpresent": {
          "id": "34ee33ab-2629-4bc7-a8ab-0a3816755ec0"
        }
      }
    },
    {
      "cell_type": "markdown",
      "source": [
        "## Everything Else from Day I\n",
        "\n",
        "- \"Word clouds are basically pie charts\" #MikeWilliams\n",
        "- \"Word clouds are lossy compression\" #MW\n",
        "- \"You should know a word by the company it keeps\" #MW\n",
        "- \"Git push is going to be the future of publishing\" #AndrewOdewahn\n",
        "- \"Jupyter is good for narrated computation\" #AO\n",
        "\n",
        "Check out:\n",
        "\n",
        "- GitLab (better than GitHub for many projects, small teams)\n",
        "- Project Oriole (in Safari Books)\n",
        "\n",
        "Pie charts still suck\n",
        "<img src=\"img/day1other1.png\",width=600,height=600>\n",
        "\n",
        "Analogue charting\n",
        "<img src=\"img/day1other2.png\",width=600,height=600>"
      ],
      "metadata": {
        "nbpresent": {
          "id": "bf810a18-a5c0-4ffb-b050-d0e699e7197e"
        }
      }
    },
    {
      "cell_type": "markdown",
      "source": [
        "## David Crawford of [Alation](https://alation.com/)\n",
        "\n",
        "\"We have questions before queries...\"\n",
        "\n",
        "Reverse-engineer the data. What's important? What's popular?\n",
        "\n",
        "Look at most frequent joins\n",
        "\n",
        "Machine Guess, Human Confirm is going to be a big paradigm shift\n",
        "\n<img src=\"img/alation1.png\",width=600,height=600>"
      ],
      "metadata": {
        "nbpresent": {
          "id": "f071d02a-5e4f-416d-bcb5-d780f829ae94"
        }
      }
    },
    {
      "cell_type": "markdown",
      "source": [
        "## Edward Lee of Spotify (LinkedIn)\n",
        "\n",
        "\"Let's just see the data\". \n",
        "We force our ideas on data... to coerce it into what we want it to show. Try to be more objective at beginning. Find ways to put up super-multi-dimensional data\n",
        "\n",
        "Spot checking at human level helps uncover outliers, problems\n",
        "\n",
        "Explore vs. Exploit trade-offs\n",
        "\n",
        "> Can we do a session metric for intent?\n",
        "\n",
        "<img src=\"img/edward1.png\",width=600,height=600>\n",
        "<img src=\"img/edward2.png\",width=600,height=600>\n",
        "<img src=\"img/edward3.png\",width=600,height=600>"
      ],
      "metadata": {
        "nbpresent": {
          "id": "c1e944d0-7d8d-4299-a4b7-80aa2288ce6a"
        }
      }
    },
    {
      "cell_type": "markdown",
      "source": [
        "## Everything Else from Day II\n",
        "\n",
        "- \"Training peers leads to geometric growth\" - Stacey Jones\n",
        "- \"Vis is good for fitting data into Human RAM\" - Scott Sanderson\n",
        "- Animation is good when it's used for building up complexity\n",
        "- If visualization is complicated, it's okay to use primers\n",
        "- \"Innovation is just a buzz word for solving problems\" - Yao Huang\n",
        "\n",
        "Check out:\n",
        "- `.table()`, `.chart()`, `.interact()` in Jupyter\n",
        "- [Quantopian](https://www.quantopian.com/home)"
      ],
      "metadata": {
        "nbpresent": {
          "id": "14864056-4b76-48ea-999c-5a3fd2f5165f"
        }
      }
    },
    {
      "cell_type": "markdown",
      "source": [
        "## [Dask](http://dask.pydata.org/en/latest/) by Matthew Rocklin\n",
        "\n",
        "Dask is the best distributed computing library for python\n",
        "\n",
        "Look at `%%time magic` in Jupyter\n",
        "\nBokeh is a relaly good stand in for D3.js (interactivity)"
      ],
      "metadata": {
        "nbpresent": {
          "id": "423f99bd-2f4d-4e97-915f-752d434325dc"
        }
      }
    },
    {
      "cell_type": "markdown",
      "source": [
        "## Jupyter by Fernando Perez\n",
        "\n",
        "YOU CAN NOW MIX AND MATCH PYTHON AND R CODE WITH [RPY2](http://rpy2.bitbucket.org/)\n",
        "\n",
        "[Jupyter Lab](https://github.com/jupyterlab/jupyterlab) can split out cells (but still super Alpha)\n",
        "\n",
        "Get C++ and bash kernels for Jupyter configured\n",
        "\n",
        "(Follow tutorials for setting .profile & .bash_profile)\n",
        "\n",
        "Links:\n",
        "\n",
        "- [Yhat R & Python](http://blog.yhat.com/posts/rpy2-combing-the-power-of-r-and-python.html)\n",
        "- [R magic deprecated](https://ipython.org/ipython-doc/2/config/extensions/rmagic.html)\n",
        "- [R/Py Example Notebook](https://github.com/lgautier/jpd-pdapr-slides/blob/gh-pages/notebooks/potholes.ipynb)"
      ],
      "metadata": {
        "nbpresent": {
          "id": "0782f210-f78f-4b95-b5fe-c6a6638aa64b"
        }
      }
    },
    {
      "cell_type": "markdown",
      "source": [
        "## [Datashader](https://datashader.readthedocs.io/en/latest/) (Bokeh) by Peter Wang\n",
        "\n",
        "Massive data amplifies the normal issues with data vis\n",
        "\n",
        "Alpha values are the end all... still have problems. Still hiding outliers, still messing up with collisions, still over/undersaturating\n",
        "\n",
        "Binning data reduces information density.\n",
        "\n",
        "Always be skeptical of binning... it's lying to you!\n",
        "\n",
        "Datashader [Link] has a live pipeline that lets you hit with statistics\n",
        "\n",
        "Use with Dask and Numba, (and regular Numpy/pandas)\n",
        "\n",
        "<img src=\"img/datashader1.png\",width=600,height=600>\n",
        "<img src=\"img/datashader2.png\",width=600,height=600>\n",
        "<img src=\"img/datashader3.png\",width=600,height=600>\n",
        "<img src=\"img/datashader4.png\",width=600,height=600>\n",
        "<img src=\"img/datashader5.png\",width=600,height=600>\n",
        "<img src=\"img/datashader6.png\",width=600,height=600>\n",
        "<img src=\"img/datashader7.png\",width=600,height=600>"
      ],
      "metadata": {
        "nbpresent": {
          "id": "f81fade3-7f65-4ce1-ba0c-95c3e44c3282"
        }
      }
    },
    {
      "cell_type": "markdown",
      "source": [
        "## Kristen Thyng\n",
        "\n",
        "Jet color mapping is garbage.\n",
        "\n",
        "Use [viridis](https://github.com/sjmgarnier/viridis) colour maps.\n",
        "\n",
        "Lightness is what's important in continuous cmaps (not hue).\n",
        "\n",
        "Use diverging color maps for anomaly detection.\n",
        "\n",
        "<img src=\"img/thyng1.png\",width=600,height=600>\n",
        "<img src=\"img/thyng2.png\",width=600,height=600>\n",
        "<img src=\"img/thyng3.png\",width=600,height=600>"
      ],
      "metadata": {
        "nbpresent": {
          "id": "1392e85c-77ac-4ad5-adae-3321787239e5"
        }
      }
    },
    {
      "cell_type": "markdown",
      "source": [
        "## Everything else from Day III\n",
        "\n",
        "- Foundations of Data Science, [data8.org](http://data8.org/fa16/)\n",
        "- \"Before we were data scientists, we were story tellers\"\n",
        "- Follow: [nteract.io](https://nteract.io/) project\n",
        "- [Beaker Notebook](http://beakernotebook.com/) might be a viable alternative to Jupyter in future (really interesting autotranslation features... that uses JSON as interchange format)\n",
        "- [Bokeh Server](http://brocktane.net/blog/bokeh-server-example/) is a Shiny for python\n",
        "\n",
        "<img src=\"img/day3other1.png\",width=600,height=600>\n",
        "<img src=\"img/day3other2.png\",width=600,height=600>"
      ],
      "metadata": {
        "nbpresent": {
          "id": "6825615e-e3ef-4c6a-97d1-844b3afa0bab"
        }
      }
    },
    {
      "cell_type": "markdown",
      "source": [
        "## Hadley I\n",
        "\n",
        "A good package MUST have an opinion\n",
        "\n",
        "`ggplot2` now has 1:1 translations for secondary y-axes\n",
        "\n",
        "Use [`ggrepel`](https://github.com/slowkow/ggrepel) for labeling data\n",
        "\n",
        "> \"Visualization is the easy bit\"\n",
        "\n",
        "Topic of current consideration: how to visualize missingness?\n",
        "\n",
        "Look into `add_na()` \n",
        "\n",
        "checkout:\n",
        "\n",
        "- Documentation at: [tidyverse.org](http://tidyverse.org/)\n",
        "- [ggplot2-exts.org](http://www.ggplot2-exts.org/)\n",
        "\n",
        "Get into some pull requests\n",
        "\n",
        "<img src=\"img/hadley1.png\",width=600,height=600>\n",
        "<img src=\"img/hadley2.png\",width=600,height=600>\n",
        "<img src=\"img/hadley3.png\",width=600,height=600>"
      ],
      "metadata": {
        "nbpresent": {
          "id": "da4b8c0c-9282-408f-9661-5ad9fc9e8259"
        }
      }
    },
    {
      "cell_type": "markdown",
      "source": [
        "## Data {rect}/{wr}angling by Jenny Bryan\n",
        "\n",
        "\"What happens in a dataframe (should) stay/s in a dataframe\"\n",
        "\n",
        "Fuck Matrices\n",
        "\n",
        "Why should you invite `lists` into your life?\n",
        "\n",
        "- Working with strings (regex) ... check [https://regex101.com/](https://regex101.com/)\n",
        "- JSON or XML\n",
        "- Split-Apply-Combine paradigms\n",
        "\n",
        "Keep vectors intact and in sync (use list columns in df/tibbles)\n",
        "\n",
        "`map()` is basically just `lapply()`\n",
        "\n",
        "<img src=\"img/jenny1.png\",width=600,height=600>\n",
        "<img src=\"img/jenny2.png\",width=600,height=600>\n",
        "<img src=\"img/jenny3.png\",width=600,height=600>\n",
        "<img src=\"img/jenny4.png\",width=600,height=600>\n",
        "<img src=\"img/jenny5.png\",width=600,height=600>\n",
        "<img src=\"img/jenny6.png\",width=600,height=600>\n",
        "<img src=\"img/jenny7.png\",width=600,height=600>\n",
        "<img src=\"img/jenny8.png\",width=600,height=600>"
      ],
      "metadata": {
        "nbpresent": {
          "id": "5cbdc9b8-3e62-49a5-a61f-a0560fd3345e"
        }
      }
    },
    {
      "cell_type": "markdown",
      "source": [
        "## Hadley II\n",
        "\n",
        "Functional programming is all about:\n",
        "\n",
        "- Less code\n",
        "- More ease\n",
        "- Human readability\n",
        "\n",
        "But it's basically just for loops (or what you could do with fors)\n",
        "\n",
        "Nested dataframes (one per row, one per group)\n",
        "\n",
        "Nest > do work > unnest (explode)\n",
        "\n",
        "Why would you ever want a \"specialized\" data strucutre. Get everything into a tibble because you can use all the familiar tools you know and love\n",
        "\n",
        "Checkout:\n",
        "\n",
        "- `library(broom); library(modelr)`\n",
        "\n",
        "<img src=\"img/hadley4.png\",width=600,height=600>\n",
        "<img src=\"img/hadley5.png\",width=600,height=600>\n",
        "<img src=\"img/hadley6.png\",width=600,height=600>\n",
        "<img src=\"img/hadley7.png\",width=600,height=600>\n",
        "<img src=\"img/hadley8.png\",width=600,height=600>\n",
        "<img src=\"img/hadley9.png\",width=600,height=600>"
      ],
      "metadata": {
        "nbpresent": {
          "id": "69a69920-a467-48ee-8c8f-70d992a28c1c"
        }
      }
    },
    {
      "cell_type": "markdown",
      "source": [
        "## Eduardo Ariño de la Rubia\n",
        "### From Domino Labs\n",
        "\n",
        "Spine charts are good for duality\n",
        "\n",
        "Slope charts are good for ranking A and B in time\n",
        "\n",
        "\"Data science is just like 85% histograms\"\n",
        "\n",
        "Figure out how to ductape vis together... create the next population pyradmid (basically just two histograms) \n",
        "\n",
        "- Think about overlayed bars\n",
        "- Think about heat contours\n",
        "- Think about animating hypothetical outcome plots\n",
        "\n",
        "Fan charts... are good for plausible deniability\n",
        "\n",
        "Check out: `tilegramsR` for 538 hex geos\n",
        "\n",
        "Don't just pick the \"prettiest\" chart\n",
        "\n<img src=\"img/eduardo1.png\",width=600,height=600>"
      ],
      "metadata": {
        "nbpresent": {
          "id": "a6400aae-f054-4555-8c1e-7f35089f2a01"
        }
      }
    },
    {
      "cell_type": "markdown",
      "source": [
        "## Michael Freeman \n",
        "### U of Washington (IDL ?)\n",
        "\n",
        "(check out his github/twitter for tuts) \n",
        "\n",
        "How do we vis a concept? (like division) ... D3?\n",
        "\n",
        "\"Magic\" is just data and algorithms\n",
        "\n",
        "<img src=\"img/freeman1.png\",width=600,height=600>\n",
        "<img src=\"img/freeman2.png\",width=600,height=600>"
      ],
      "metadata": {
        "nbpresent": {
          "id": "1c7fad0a-89e0-41dd-8cbd-459ceea2f1db"
        }
      }
    },
    {
      "cell_type": "markdown",
      "source": [
        "## David Robinson\n",
        "### `gganimate()`\n",
        "\n",
        "Mapping time to `aes(frame= )`\n",
        "\n",
        "Checkout `tweenr` for smoothing animations\n",
        "\n",
        "When you see something build (like election forecasts over time)... you develop a visceral connection to it... you feel the ups and downs\n",
        "\n",
        "Grab locally weighted regression examples\n",
        "\n",
        "Animations are \"transparent\" ... equations are opaque\n",
        "\n",
        "<img src=\"img/robinson1.png\",width=600,height=600>\n",
        "<img src=\"img/robinson2.png\",width=600,height=600>"
      ],
      "metadata": {
        "nbpresent": {
          "id": "31f38281-014b-448b-b6c3-ae367f2c152a"
        }
      }
    },
    {
      "cell_type": "markdown",
      "source": [
        "## Everything Else from Day IV\n",
        "\n",
        "- Think about repurposing candlesticks for non financy-things (mood?)\n",
        "- Look at `ggproto` and `productplots` for creating extensible geoms_\n",
        "- Check out: QuantEcon from the Julia guy (Spencer Lyon)"
      ],
      "metadata": {
        "nbpresent": {
          "id": "d16a70d2-67e6-45d9-9c88-08af6732d029"
        }
      }
    }
  ],
  "metadata": {
    "anaconda-cloud": {},
    "kernelspec": {
      "name": "python3",
      "language": "python",
      "display_name": "Python 3"
    },
    "language_info": {
      "name": "python",
      "version": "3.6.1",
      "mimetype": "text/x-python",
      "codemirror_mode": {
        "name": "ipython",
        "version": 3
      },
      "pygments_lexer": "ipython3",
      "nbconvert_exporter": "python",
      "file_extension": ".py"
    },
    "nbpresent": {
      "slides": {
        "32926002-2693-40fc-8095-50c7992e8b6a": {
          "id": "32926002-2693-40fc-8095-50c7992e8b6a",
          "prev": null,
          "regions": {
            "7e747450-e4ad-4252-a5cc-7b50f2547af8": {
              "attrs": {
                "height": 1,
                "width": 1,
                "x": 0,
                "y": 0
              },
              "content": {
                "cell": "ed98f854-317a-4c1e-b579-ceefd53ddd02",
                "part": "source"
              },
              "id": "7e747450-e4ad-4252-a5cc-7b50f2547af8"
            }
          }
        },
        "81901157-035f-4eb8-8e44-84ff8efa102f": {
          "id": "81901157-035f-4eb8-8e44-84ff8efa102f",
          "prev": "32926002-2693-40fc-8095-50c7992e8b6a",
          "regions": {
            "3d83d5d7-89a8-431d-8e62-f0f519a98314": {
              "attrs": {
                "height": 1,
                "width": 1,
                "x": 0,
                "y": 0
              },
              "id": "3d83d5d7-89a8-431d-8e62-f0f519a98314"
            }
          }
        }
      },
      "themes": {}
    },
    "kernel_info": {
      "name": "python3"
    }
  },
  "nbformat": 4,
  "nbformat_minor": 1
}